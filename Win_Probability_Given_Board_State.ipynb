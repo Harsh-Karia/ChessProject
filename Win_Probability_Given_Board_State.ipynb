{
  "nbformat": 4,
  "nbformat_minor": 0,
  "metadata": {
    "colab": {
      "provenance": []
    },
    "kernelspec": {
      "name": "python3",
      "display_name": "Python 3"
    },
    "language_info": {
      "name": "python"
    }
  },
  "cells": [
    {
      "cell_type": "code",
      "execution_count": null,
      "metadata": {
        "colab": {
          "base_uri": "https://localhost:8080/"
        },
        "id": "wUGuLdiU7MbY",
        "outputId": "04de1d5c-7856-4738-b3c0-6a22d2cc9ffa"
      },
      "outputs": [
        {
          "output_type": "stream",
          "name": "stdout",
          "text": [
            "Collecting chess\n",
            "  Downloading chess-1.11.2.tar.gz (6.1 MB)\n",
            "\u001b[2K     \u001b[90m━━━━━━━━━━━━━━━━━━━━━━━━━━━━━━━━━━━━━━━━\u001b[0m \u001b[32m6.1/6.1 MB\u001b[0m \u001b[31m24.8 MB/s\u001b[0m eta \u001b[36m0:00:00\u001b[0m\n",
            "\u001b[?25h  Preparing metadata (setup.py) ... \u001b[?25l\u001b[?25hdone\n",
            "Collecting pgnparser\n",
            "  Downloading pgnparser-1.0.zip (7.3 kB)\n",
            "  Preparing metadata (setup.py) ... \u001b[?25l\u001b[?25hdone\n",
            "Requirement already satisfied: numpy in /usr/local/lib/python3.11/dist-packages (1.26.4)\n",
            "Requirement already satisfied: tensorflow in /usr/local/lib/python3.11/dist-packages (2.18.0)\n",
            "Requirement already satisfied: keras in /usr/local/lib/python3.11/dist-packages (3.8.0)\n",
            "Requirement already satisfied: absl-py>=1.0.0 in /usr/local/lib/python3.11/dist-packages (from tensorflow) (1.4.0)\n",
            "Requirement already satisfied: astunparse>=1.6.0 in /usr/local/lib/python3.11/dist-packages (from tensorflow) (1.6.3)\n",
            "Requirement already satisfied: flatbuffers>=24.3.25 in /usr/local/lib/python3.11/dist-packages (from tensorflow) (25.2.10)\n",
            "Requirement already satisfied: gast!=0.5.0,!=0.5.1,!=0.5.2,>=0.2.1 in /usr/local/lib/python3.11/dist-packages (from tensorflow) (0.6.0)\n",
            "Requirement already satisfied: google-pasta>=0.1.1 in /usr/local/lib/python3.11/dist-packages (from tensorflow) (0.2.0)\n",
            "Requirement already satisfied: libclang>=13.0.0 in /usr/local/lib/python3.11/dist-packages (from tensorflow) (18.1.1)\n",
            "Requirement already satisfied: opt-einsum>=2.3.2 in /usr/local/lib/python3.11/dist-packages (from tensorflow) (3.4.0)\n",
            "Requirement already satisfied: packaging in /usr/local/lib/python3.11/dist-packages (from tensorflow) (24.2)\n",
            "Requirement already satisfied: protobuf!=4.21.0,!=4.21.1,!=4.21.2,!=4.21.3,!=4.21.4,!=4.21.5,<6.0.0dev,>=3.20.3 in /usr/local/lib/python3.11/dist-packages (from tensorflow) (4.25.6)\n",
            "Requirement already satisfied: requests<3,>=2.21.0 in /usr/local/lib/python3.11/dist-packages (from tensorflow) (2.32.3)\n",
            "Requirement already satisfied: setuptools in /usr/local/lib/python3.11/dist-packages (from tensorflow) (75.1.0)\n",
            "Requirement already satisfied: six>=1.12.0 in /usr/local/lib/python3.11/dist-packages (from tensorflow) (1.17.0)\n",
            "Requirement already satisfied: termcolor>=1.1.0 in /usr/local/lib/python3.11/dist-packages (from tensorflow) (2.5.0)\n",
            "Requirement already satisfied: typing-extensions>=3.6.6 in /usr/local/lib/python3.11/dist-packages (from tensorflow) (4.12.2)\n",
            "Requirement already satisfied: wrapt>=1.11.0 in /usr/local/lib/python3.11/dist-packages (from tensorflow) (1.17.2)\n",
            "Requirement already satisfied: grpcio<2.0,>=1.24.3 in /usr/local/lib/python3.11/dist-packages (from tensorflow) (1.70.0)\n",
            "Requirement already satisfied: tensorboard<2.19,>=2.18 in /usr/local/lib/python3.11/dist-packages (from tensorflow) (2.18.0)\n",
            "Requirement already satisfied: h5py>=3.11.0 in /usr/local/lib/python3.11/dist-packages (from tensorflow) (3.12.1)\n",
            "Requirement already satisfied: ml-dtypes<0.5.0,>=0.4.0 in /usr/local/lib/python3.11/dist-packages (from tensorflow) (0.4.1)\n",
            "Requirement already satisfied: tensorflow-io-gcs-filesystem>=0.23.1 in /usr/local/lib/python3.11/dist-packages (from tensorflow) (0.37.1)\n",
            "Requirement already satisfied: rich in /usr/local/lib/python3.11/dist-packages (from keras) (13.9.4)\n",
            "Requirement already satisfied: namex in /usr/local/lib/python3.11/dist-packages (from keras) (0.0.8)\n",
            "Requirement already satisfied: optree in /usr/local/lib/python3.11/dist-packages (from keras) (0.14.0)\n",
            "Requirement already satisfied: wheel<1.0,>=0.23.0 in /usr/local/lib/python3.11/dist-packages (from astunparse>=1.6.0->tensorflow) (0.45.1)\n",
            "Requirement already satisfied: charset-normalizer<4,>=2 in /usr/local/lib/python3.11/dist-packages (from requests<3,>=2.21.0->tensorflow) (3.4.1)\n",
            "Requirement already satisfied: idna<4,>=2.5 in /usr/local/lib/python3.11/dist-packages (from requests<3,>=2.21.0->tensorflow) (3.10)\n",
            "Requirement already satisfied: urllib3<3,>=1.21.1 in /usr/local/lib/python3.11/dist-packages (from requests<3,>=2.21.0->tensorflow) (2.3.0)\n",
            "Requirement already satisfied: certifi>=2017.4.17 in /usr/local/lib/python3.11/dist-packages (from requests<3,>=2.21.0->tensorflow) (2025.1.31)\n",
            "Requirement already satisfied: markdown>=2.6.8 in /usr/local/lib/python3.11/dist-packages (from tensorboard<2.19,>=2.18->tensorflow) (3.7)\n",
            "Requirement already satisfied: tensorboard-data-server<0.8.0,>=0.7.0 in /usr/local/lib/python3.11/dist-packages (from tensorboard<2.19,>=2.18->tensorflow) (0.7.2)\n",
            "Requirement already satisfied: werkzeug>=1.0.1 in /usr/local/lib/python3.11/dist-packages (from tensorboard<2.19,>=2.18->tensorflow) (3.1.3)\n",
            "Requirement already satisfied: markdown-it-py>=2.2.0 in /usr/local/lib/python3.11/dist-packages (from rich->keras) (3.0.0)\n",
            "Requirement already satisfied: pygments<3.0.0,>=2.13.0 in /usr/local/lib/python3.11/dist-packages (from rich->keras) (2.18.0)\n",
            "Requirement already satisfied: mdurl~=0.1 in /usr/local/lib/python3.11/dist-packages (from markdown-it-py>=2.2.0->rich->keras) (0.1.2)\n",
            "Requirement already satisfied: MarkupSafe>=2.1.1 in /usr/local/lib/python3.11/dist-packages (from werkzeug>=1.0.1->tensorboard<2.19,>=2.18->tensorflow) (3.0.2)\n",
            "Building wheels for collected packages: chess, pgnparser\n",
            "  Building wheel for chess (setup.py) ... \u001b[?25l\u001b[?25hdone\n",
            "  Created wheel for chess: filename=chess-1.11.2-py3-none-any.whl size=147776 sha256=4a02329d0bf02e83b328c22f05be6777b2a2b818204f1a7d3c453281682551e1\n",
            "  Stored in directory: /root/.cache/pip/wheels/fb/5d/5c/59a62d8a695285e59ec9c1f66add6f8a9ac4152499a2be0113\n",
            "  Building wheel for pgnparser (setup.py) ... \u001b[?25l\u001b[?25hdone\n",
            "  Created wheel for pgnparser: filename=pgnparser-1.0-py3-none-any.whl size=3868 sha256=e47b30e47403f0252b27b31e47ff026639817fda8dc4ae8fa3f055a50ac43f04\n",
            "  Stored in directory: /root/.cache/pip/wheels/9c/6f/e3/3a8aa4a1180733a3e5c4dacfc7271643fb109611ee866a9f89\n",
            "Successfully built chess pgnparser\n",
            "Installing collected packages: pgnparser, chess\n",
            "Successfully installed chess-1.11.2 pgnparser-1.0\n"
          ]
        }
      ],
      "source": [
        "!pip install chess pgnparser numpy tensorflow keras\n"
      ]
    },
    {
      "cell_type": "code",
      "source": [
        "import chess\n",
        "import chess.pgn\n",
        "import numpy as np\n",
        "import tensorflow as tf\n",
        "from tensorflow import keras\n",
        "from tensorflow.keras.models import Sequential\n",
        "from tensorflow.keras.layers import Dense, Flatten"
      ],
      "metadata": {
        "id": "Xd2yvBl-7T0g"
      },
      "execution_count": null,
      "outputs": []
    },
    {
      "cell_type": "code",
      "source": [
        "!wget https://database.lichess.org/standard/lichess_db_standard_rated_2024-01.pgn.zst\n"
      ],
      "metadata": {
        "colab": {
          "base_uri": "https://localhost:8080/"
        },
        "id": "7gHpznnd7YB_",
        "outputId": "ab624f7e-3476-41d1-c594-9d414796c5c7"
      },
      "execution_count": null,
      "outputs": [
        {
          "output_type": "stream",
          "name": "stdout",
          "text": [
            "--2025-03-06 05:28:55--  https://database.lichess.org/standard/lichess_db_standard_rated_2024-01.pgn.zst\n",
            "Resolving database.lichess.org (database.lichess.org)... 141.95.66.62, 2001:41d0:700:5e3e::\n",
            "Connecting to database.lichess.org (database.lichess.org)|141.95.66.62|:443... connected.\n",
            "HTTP request sent, awaiting response... 200 OK\n",
            "Length: 32379325271 (30G) [application/octet-stream]\n",
            "Saving to: ‘lichess_db_standard_rated_2024-01.pgn.zst’\n",
            "\n",
            "lichess_db_standard 100%[===================>]  30.16G  29.7MB/s    in 18m 52s \n",
            "\n",
            "2025-03-06 05:47:47 (27.3 MB/s) - ‘lichess_db_standard_rated_2024-01.pgn.zst’ saved [32379325271/32379325271]\n",
            "\n"
          ]
        }
      ]
    },
    {
      "cell_type": "code",
      "source": [
        "!apt-get install zstd\n"
      ],
      "metadata": {
        "colab": {
          "base_uri": "https://localhost:8080/"
        },
        "id": "Q8bZxIbk_zF_",
        "outputId": "56d9aa7c-d43e-458a-dde4-131eea3a75ae"
      },
      "execution_count": null,
      "outputs": [
        {
          "output_type": "stream",
          "name": "stdout",
          "text": [
            "Reading package lists... Done\n",
            "Building dependency tree... Done\n",
            "Reading state information... Done\n",
            "The following NEW packages will be installed:\n",
            "  zstd\n",
            "0 upgraded, 1 newly installed, 0 to remove and 29 not upgraded.\n",
            "Need to get 603 kB of archives.\n",
            "After this operation, 1,695 kB of additional disk space will be used.\n",
            "Get:1 http://archive.ubuntu.com/ubuntu jammy/main amd64 zstd amd64 1.4.8+dfsg-3build1 [603 kB]\n",
            "Fetched 603 kB in 0s (2,018 kB/s)\n",
            "Selecting previously unselected package zstd.\n",
            "(Reading database ... 124947 files and directories currently installed.)\n",
            "Preparing to unpack .../zstd_1.4.8+dfsg-3build1_amd64.deb ...\n",
            "Unpacking zstd (1.4.8+dfsg-3build1) ...\n",
            "Setting up zstd (1.4.8+dfsg-3build1) ...\n",
            "Processing triggers for man-db (2.10.2-1) ...\n"
          ]
        }
      ]
    },
    {
      "cell_type": "code",
      "source": [
        "!unzstd --stdout lichess_db_standard_rated_2024-01.pgn.zst | head -n 50000 > small_games.pgn\n"
      ],
      "metadata": {
        "id": "dDCvtAEC_2MQ"
      },
      "execution_count": null,
      "outputs": []
    },
    {
      "cell_type": "code",
      "source": [
        "!ls -lh small_games.pgn\n"
      ],
      "metadata": {
        "colab": {
          "base_uri": "https://localhost:8080/"
        },
        "id": "pxmdCkcU_5gs",
        "outputId": "55af77af-f24f-4d30-cbe8-4b9ac4157566"
      },
      "execution_count": null,
      "outputs": [
        {
          "output_type": "stream",
          "name": "stdout",
          "text": [
            "-rw-r--r-- 1 root root 5.6M Mar  6 05:48 small_games.pgn\n"
          ]
        }
      ]
    },
    {
      "cell_type": "code",
      "source": [
        "!head -n 20 small_games.pgn\n"
      ],
      "metadata": {
        "colab": {
          "base_uri": "https://localhost:8080/"
        },
        "id": "H_ZcFdiQ_-M9",
        "outputId": "1335ce28-ca76-42cd-8fb5-4c6cafb99c06"
      },
      "execution_count": null,
      "outputs": [
        {
          "output_type": "stream",
          "name": "stdout",
          "text": [
            "[Event \"Rated Blitz game\"]\n",
            "[Site \"https://lichess.org/iSjpt213\"]\n",
            "[Date \"2024.01.01\"]\n",
            "[Round \"-\"]\n",
            "[White \"Detectie\"]\n",
            "[Black \"youssefaymn\"]\n",
            "[Result \"1-0\"]\n",
            "[UTCDate \"2024.01.01\"]\n",
            "[UTCTime \"00:00:14\"]\n",
            "[WhiteElo \"1176\"]\n",
            "[BlackElo \"1155\"]\n",
            "[WhiteRatingDiff \"+5\"]\n",
            "[BlackRatingDiff \"-6\"]\n",
            "[ECO \"C50\"]\n",
            "[Opening \"Italian Game: Anti-Fried Liver Defense\"]\n",
            "[TimeControl \"300+3\"]\n",
            "[Termination \"Normal\"]\n",
            "\n",
            "1. e4 { [%eval 0.2] [%clk 0:05:00] } 1... e5 { [%eval 0.17] [%clk 0:05:00] } 2. Nf3 { [%eval 0.29] [%clk 0:05:02] } 2... Nc6 { [%eval 0.32] [%clk 0:05:02] } 3. Bc4 { [%eval 0.21] [%clk 0:05:04] } 3... h6?! { [%eval 0.76] [%clk 0:05:03] } 4. O-O { [%eval 0.56] [%clk 0:05:02] } 4... Nf6 { [%eval 0.75] [%clk 0:05:04] } 5. d3?! { [%eval 0.13] [%clk 0:05:00] } 5... d6 { [%eval 0.43] [%clk 0:05:05] } 6. Be3 { [%eval 0.13] [%clk 0:04:55] } 6... Be6?! { [%eval 0.7] [%clk 0:05:05] } 7. Bxe6 { [%eval 0.5] [%clk 0:04:56] } 7... fxe6 { [%eval 0.42] [%clk 0:05:08] } 8. Nbd2 { [%eval 0.33] [%clk 0:04:57] } 8... d5 { [%eval 0.81] [%clk 0:05:10] } 9. exd5 { [%eval 0.48] [%clk 0:04:57] } 9... exd5 { [%eval 0.52] [%clk 0:05:13] } 10. Re1 { [%eval 0.1] [%clk 0:04:42] } 10... e4? { [%eval 2.53] [%clk 0:05:07] } 11. Nd4?! { [%eval 1.78] [%clk 0:04:37] } 11... Nxd4?! { [%eval 2.73] [%clk 0:04:56] } 12. Bxd4 { [%eval 3.05] [%clk 0:04:37] } 12... Bd6 { [%eval 3.18] [%clk 0:04:55] } 13. Bxf6? { [%eval 1.64] [%clk 0:04:22] } 13... gxf6? { [%eval 4.46] [%clk 0:04:56] } 14. Qh5+ { [%eval 4.46] [%clk 0:04:19] } 14... Kd7 { [%eval 4.78] [%clk 0:04:52] } 15. Qxd5 { [%eval 4.53] [%clk 0:04:11] } 15... exd3 { [%eval 5.26] [%clk 0:04:48] } 16. Qe6+ { [%eval 5.7] [%clk 0:03:47] } 16... Kc6 { [%eval 5.72] [%clk 0:04:47] } 17. Qc4+ { [%eval 5.79] [%clk 0:03:43] } 17... Kd7 { [%eval 5.79] [%clk 0:04:47] } 18. Qxd3? { [%eval 4.17] [%clk 0:03:44] } 18... Kc8 { [%eval 3.96] [%clk 0:04:48] } 19. Qf5+ { [%eval 3.88] [%clk 0:03:43] } 19... Kb8 { [%eval 3.92] [%clk 0:04:49] } 20. Ne4 { [%eval 4.02] [%clk 0:03:25] } 20... Rg8? { [%eval 5.16] [%clk 0:04:45] } 21. Nxd6 { [%eval 4.31] [%clk 0:03:13] } 21... Qxd6 { [%eval 4.5] [%clk 0:04:48] } 22. Qe6? { [%eval 3.42] [%clk 0:02:57] } 22... Qd8? { [%eval 4.62] [%clk 0:04:32] } 23. Rad1 { [%eval 4.37] [%clk 0:02:43] } 23... Qf8 { [%eval 4.85] [%clk 0:04:32] } 24. Qe7 { [%eval 3.98] [%clk 0:02:26] } 24... Qxe7 { [%eval 4.0] [%clk 0:04:29] } 25. Rxe7 { [%eval 4.09] [%clk 0:02:26] } 25... a5 { [%eval 3.97] [%clk 0:04:31] } 26. Rdd7 { [%eval 4.0] [%clk 0:02:25] } 26... c6? { [%eval 6.02] [%clk 0:04:23] } 27. Rxb7+ { [%eval 5.9] [%clk 0:02:26] } 27... Kc8 { [%eval 5.9] [%clk 0:04:24] } 28. Rec7+ { [%eval 6.03] [%clk 0:02:26] } 28... Kd8 { [%eval 6.08] [%clk 0:04:26] } 29. Rd7+ { [%eval 5.79] [%clk 0:02:28] } 29... Kc8 { [%eval 5.91] [%clk 0:04:28] } 30. Rbc7+ { [%eval 5.92] [%clk 0:02:29] } 30... Kb8 { [%eval 5.94] [%clk 0:04:30] } 31. Rxc6 { [%eval 5.72] [%clk 0:02:28] } 31... Re8 { [%eval 5.64] [%clk 0:04:31] } 32. Rd1 { [%eval 5.08] [%clk 0:02:14] } 32... Ra7 { [%eval 5.35] [%clk 0:04:31] } 33. Rcd6 { [%eval 5.25] [%clk 0:02:13] } 33... Kc8 { [%eval 5.67] [%clk 0:04:23] } 34. Kf1 { [%eval 5.45] [%clk 0:02:07] } 34... Rc7 { [%eval 5.51] [%clk 0:04:15] } 35. c3 { [%eval 5.55] [%clk 0:02:04] } 35... a4 { [%eval 5.7] [%clk 0:04:13] } 36. Re1 { [%eval 5.16] [%clk 0:01:42] } 36... Rf8 { [%eval 5.79] [%clk 0:04:10] } 37. Rde6 { [%eval 4.97] [%clk 0:01:43] } 37... Kd7 { [%eval 5.29] [%clk 0:03:58] } 38. R6e4 { [%eval 5.06] [%clk 0:01:30] } 38... Rb7 { [%eval 5.57] [%clk 0:03:55] } 39. Rd1+ { [%eval 5.53] [%clk 0:01:25] } 39... Kc8 { [%eval 5.54] [%clk 0:03:55] } 40. Rd2 { [%eval 5.51] [%clk 0:01:22] } 40... a3 { [%eval 5.62] [%clk 0:03:49] } 41. b3 { [%eval 5.57] [%clk 0:01:15] } 41... Rg8 { [%eval 5.57] [%clk 0:03:45] } 42. Rde2 { [%eval 5.14] [%clk 0:01:16] } 42... Kd8 { [%eval 6.07] [%clk 0:03:40] } 43. Rd2+ { [%eval 5.71] [%clk 0:01:13] } 43... Kc8 { [%eval 5.71] [%clk 0:03:41] } 44. Rde2 { [%eval 5.41] [%clk 0:01:13] } 44... Kd8 { [%eval 5.74] [%clk 0:03:42] } 45. g3 { [%eval 5.83] [%clk 0:01:12] } 45... Rd7 { [%eval 5.86] [%clk 0:03:41] } 46. Ke1 { [%eval 5.59] [%clk 0:01:05] } 46... Rc7 { [%eval 5.7] [%clk 0:03:40] } 47. Rc4? { [%eval 4.51] [%clk 0:01:04] } 47... Rd7? { [%eval 5.74] [%clk 0:03:41] } 48. Rd2 { [%eval 5.61] [%clk 0:01:03] } 48... Rxd2 { [%eval 5.57] [%clk 0:03:40] } 49. Kxd2 { [%eval 5.6] [%clk 0:01:04] } 49... Rg5 { [%eval 5.6] [%clk 0:03:41] } 50. Rd4+ { [%eval 5.83] [%clk 0:01:01] } 50... Ke7 { [%eval 5.71] [%clk 0:03:43] } 51. Re4+ { [%eval 5.61] [%clk 0:01:00] } 51... Kd6 { [%eval 5.56] [%clk 0:03:45] } 52. Ke3 { [%eval 5.48] [%clk 0:01:02] } 52... f5 { [%eval 5.57] [%clk 0:03:44] } 53. Rd4+ { [%eval 5.44] [%clk 0:01:00] } 53... Ke5?? { [%eval 9.23] [%clk 0:03:43] } 54. f4+ { [%eval 34.76] [%clk 0:00:57] } 1-0\n",
            "\n"
          ]
        }
      ]
    },
    {
      "cell_type": "code",
      "source": [
        "#parsing the game from the pgn file\n",
        "def parse_pgn(pgn_file, num_games=2000):\n",
        "    games = []\n",
        "    with open(pgn_file) as f:\n",
        "      #loop through the games\n",
        "        for _ in range(num_games):\n",
        "            game = chess.pgn.read_game(f)\n",
        "            if game is None:\n",
        "                break\n",
        "            games.append(game)\n",
        "    return games\n",
        "#load the gmaes\n",
        "games = parse_pgn(\"small_games.pgn\", num_games=2000)\n",
        "print(f\"Loaded {len(games)} games successfully.\")"
      ],
      "metadata": {
        "colab": {
          "base_uri": "https://localhost:8080/"
        },
        "id": "JnMz5WMf__oI",
        "outputId": "2da14ef6-4aa7-4bbf-966a-617c300c6291"
      },
      "execution_count": null,
      "outputs": [
        {
          "output_type": "stream",
          "name": "stdout",
          "text": [
            "Loaded 2000 games successfully.\n"
          ]
        }
      ]
    },
    {
      "cell_type": "code",
      "source": [
        "#\n",
        "def board_to_array(board):\n",
        "  #piece_map maps chess pieces to numbers\n",
        "    piece_map = {\n",
        "        'p': -1, 'n': -2, 'b': -3, 'r': -4, 'q': -5, 'k': -6,\n",
        "        'P': 1, 'N': 2, 'B': 3, 'R': 4, 'Q': 5, 'K': 6, '.': 0\n",
        "    }\n",
        "    #converts board to a string\n",
        "    board_str = str(board).replace(\"\\n\", \" \").split()\n",
        "    #creates an array\n",
        "    #reshapes to a 8x8 grid to represent a chess board\n",
        "    return np.array([piece_map[piece] for piece in board_str]).reshape(8, 8)\n",
        "\n",
        "def extract_features_and_labels(games, max_moves=50):\n",
        "  #X stores board states\n",
        "  #Y stores game results\n",
        "    X, y = [], []\n",
        "    for game in games:\n",
        "        board = game.board()\n",
        "        result = game.headers[\"Result\"]\n",
        "\n",
        "        # One-hot encoding: [White win, Black win, Draw]\n",
        "        if result == \"1-0\":\n",
        "           # White wins\n",
        "            label = [1, 0, 0]\n",
        "        elif result == \"0-1\":\n",
        "           # Black wins\n",
        "            label = [0, 1, 0]\n",
        "        else:\n",
        "          # Draw\n",
        "            label = [0, 0, 1]\n",
        "\n",
        "        move_count = 0\n",
        "        for move in game.mainline_moves():\n",
        "          #applies the move to the board\n",
        "            board.push(move)\n",
        "          #current board state turns into an array\n",
        "          #add board state to X\n",
        "            X.append(board_to_array(board))\n",
        "          #store the result to Y\n",
        "            y.append(label)\n",
        "            move_count += 1\n",
        "            #stops when max moves of 50 is reachesd\n",
        "            if move_count >= max_moves:\n",
        "                break\n",
        "    #return array of board state and results\n",
        "    return np.array(X), np.array(y)\n",
        "\n",
        "X, y = extract_features_and_labels(games)\n",
        " # Reshape for CNN input\n",
        "X = X.reshape(X.shape[0], 8, 8, 1)\n",
        "print(f\"Dataset Shape: X={X.shape}, y={y.shape}\")\n"
      ],
      "metadata": {
        "colab": {
          "base_uri": "https://localhost:8080/"
        },
        "id": "eOiuya9NAEm2",
        "outputId": "e29cd274-792a-42a9-d306-54b89e55a07d"
      },
      "execution_count": null,
      "outputs": [
        {
          "output_type": "stream",
          "name": "stdout",
          "text": [
            "Dataset Shape: X=(90554, 8, 8, 1), y=(90554, 3)\n"
          ]
        }
      ]
    },
    {
      "cell_type": "code",
      "source": [
        "from tensorflow.keras.models import Sequential\n",
        "from tensorflow.keras.layers import Conv2D, MaxPooling2D, Flatten, Dense, Dropout, BatchNormalization\n"
      ],
      "metadata": {
        "id": "CNnmc7MiAIXw"
      },
      "execution_count": null,
      "outputs": []
    },
    {
      "cell_type": "code",
      "source": [
        "model = Sequential([\n",
        "    #first layer: 64 filters\n",
        "    Conv2D(64, kernel_size=(3, 3), activation='relu', padding='same', input_shape=(8, 8, 1)),\n",
        "    #normalizes activation\n",
        "    BatchNormalization(),\n",
        "    #extracts dominant features\n",
        "    MaxPooling2D(pool_size=(2, 2)),\n",
        "\n",
        "    #second layer: 128 filters\n",
        "    Conv2D(128, kernel_size=(3, 3), activation='relu', padding='same'),\n",
        "    #normalizes activation\n",
        "    BatchNormalization(),\n",
        "    #extracts dominant features\n",
        "    MaxPooling2D(pool_size=(2, 2)),\n",
        "\n",
        "    #third layer: 256 filter\n",
        "    Conv2D(256, kernel_size=(3, 3), activation='relu', padding='same'),\n",
        "    #normalizes activation\n",
        "    BatchNormalization(),\n",
        "\n",
        "    Flatten(),\n",
        "    #relu introduces non-linearity\n",
        "    Dense(512, activation='relu'),\n",
        "    Dropout(0.3),\n",
        "    #relu introduces non-linearity\n",
        "    Dense(256, activation='relu'),\n",
        "    Dropout(0.3),\n",
        "    #softmax turns the final layer into proability; white, black, and draw sum up to 1\n",
        "    Dense(3, activation='softmax')  # Output: [White Win, Black Win, Draw]\n",
        "])\n",
        "\n",
        "model.compile(optimizer='adam', loss='categorical_crossentropy', metrics=['accuracy'])\n",
        "model.summary()\n"
      ],
      "metadata": {
        "colab": {
          "base_uri": "https://localhost:8080/",
          "height": 696
        },
        "id": "iTCCCClTAKAe",
        "outputId": "9598947d-aab9-4ad2-ebc4-2d33761a1ee7"
      },
      "execution_count": null,
      "outputs": [
        {
          "output_type": "stream",
          "name": "stderr",
          "text": [
            "/usr/local/lib/python3.11/dist-packages/keras/src/layers/convolutional/base_conv.py:107: UserWarning: Do not pass an `input_shape`/`input_dim` argument to a layer. When using Sequential models, prefer using an `Input(shape)` object as the first layer in the model instead.\n",
            "  super().__init__(activity_regularizer=activity_regularizer, **kwargs)\n"
          ]
        },
        {
          "output_type": "display_data",
          "data": {
            "text/plain": [
              "\u001b[1mModel: \"sequential\"\u001b[0m\n"
            ],
            "text/html": [
              "<pre style=\"white-space:pre;overflow-x:auto;line-height:normal;font-family:Menlo,'DejaVu Sans Mono',consolas,'Courier New',monospace\"><span style=\"font-weight: bold\">Model: \"sequential\"</span>\n",
              "</pre>\n"
            ]
          },
          "metadata": {}
        },
        {
          "output_type": "display_data",
          "data": {
            "text/plain": [
              "┏━━━━━━━━━━━━━━━━━━━━━━━━━━━━━━━━━━━━━━┳━━━━━━━━━━━━━━━━━━━━━━━━━━━━━┳━━━━━━━━━━━━━━━━━┓\n",
              "┃\u001b[1m \u001b[0m\u001b[1mLayer (type)                        \u001b[0m\u001b[1m \u001b[0m┃\u001b[1m \u001b[0m\u001b[1mOutput Shape               \u001b[0m\u001b[1m \u001b[0m┃\u001b[1m \u001b[0m\u001b[1m        Param #\u001b[0m\u001b[1m \u001b[0m┃\n",
              "┡━━━━━━━━━━━━━━━━━━━━━━━━━━━━━━━━━━━━━━╇━━━━━━━━━━━━━━━━━━━━━━━━━━━━━╇━━━━━━━━━━━━━━━━━┩\n",
              "│ conv2d (\u001b[38;5;33mConv2D\u001b[0m)                      │ (\u001b[38;5;45mNone\u001b[0m, \u001b[38;5;34m8\u001b[0m, \u001b[38;5;34m8\u001b[0m, \u001b[38;5;34m64\u001b[0m)            │             \u001b[38;5;34m640\u001b[0m │\n",
              "├──────────────────────────────────────┼─────────────────────────────┼─────────────────┤\n",
              "│ batch_normalization                  │ (\u001b[38;5;45mNone\u001b[0m, \u001b[38;5;34m8\u001b[0m, \u001b[38;5;34m8\u001b[0m, \u001b[38;5;34m64\u001b[0m)            │             \u001b[38;5;34m256\u001b[0m │\n",
              "│ (\u001b[38;5;33mBatchNormalization\u001b[0m)                 │                             │                 │\n",
              "├──────────────────────────────────────┼─────────────────────────────┼─────────────────┤\n",
              "│ max_pooling2d (\u001b[38;5;33mMaxPooling2D\u001b[0m)         │ (\u001b[38;5;45mNone\u001b[0m, \u001b[38;5;34m4\u001b[0m, \u001b[38;5;34m4\u001b[0m, \u001b[38;5;34m64\u001b[0m)            │               \u001b[38;5;34m0\u001b[0m │\n",
              "├──────────────────────────────────────┼─────────────────────────────┼─────────────────┤\n",
              "│ conv2d_1 (\u001b[38;5;33mConv2D\u001b[0m)                    │ (\u001b[38;5;45mNone\u001b[0m, \u001b[38;5;34m4\u001b[0m, \u001b[38;5;34m4\u001b[0m, \u001b[38;5;34m128\u001b[0m)           │          \u001b[38;5;34m73,856\u001b[0m │\n",
              "├──────────────────────────────────────┼─────────────────────────────┼─────────────────┤\n",
              "│ batch_normalization_1                │ (\u001b[38;5;45mNone\u001b[0m, \u001b[38;5;34m4\u001b[0m, \u001b[38;5;34m4\u001b[0m, \u001b[38;5;34m128\u001b[0m)           │             \u001b[38;5;34m512\u001b[0m │\n",
              "│ (\u001b[38;5;33mBatchNormalization\u001b[0m)                 │                             │                 │\n",
              "├──────────────────────────────────────┼─────────────────────────────┼─────────────────┤\n",
              "│ max_pooling2d_1 (\u001b[38;5;33mMaxPooling2D\u001b[0m)       │ (\u001b[38;5;45mNone\u001b[0m, \u001b[38;5;34m2\u001b[0m, \u001b[38;5;34m2\u001b[0m, \u001b[38;5;34m128\u001b[0m)           │               \u001b[38;5;34m0\u001b[0m │\n",
              "├──────────────────────────────────────┼─────────────────────────────┼─────────────────┤\n",
              "│ conv2d_2 (\u001b[38;5;33mConv2D\u001b[0m)                    │ (\u001b[38;5;45mNone\u001b[0m, \u001b[38;5;34m2\u001b[0m, \u001b[38;5;34m2\u001b[0m, \u001b[38;5;34m256\u001b[0m)           │         \u001b[38;5;34m295,168\u001b[0m │\n",
              "├──────────────────────────────────────┼─────────────────────────────┼─────────────────┤\n",
              "│ batch_normalization_2                │ (\u001b[38;5;45mNone\u001b[0m, \u001b[38;5;34m2\u001b[0m, \u001b[38;5;34m2\u001b[0m, \u001b[38;5;34m256\u001b[0m)           │           \u001b[38;5;34m1,024\u001b[0m │\n",
              "│ (\u001b[38;5;33mBatchNormalization\u001b[0m)                 │                             │                 │\n",
              "├──────────────────────────────────────┼─────────────────────────────┼─────────────────┤\n",
              "│ flatten (\u001b[38;5;33mFlatten\u001b[0m)                    │ (\u001b[38;5;45mNone\u001b[0m, \u001b[38;5;34m1024\u001b[0m)                │               \u001b[38;5;34m0\u001b[0m │\n",
              "├──────────────────────────────────────┼─────────────────────────────┼─────────────────┤\n",
              "│ dense (\u001b[38;5;33mDense\u001b[0m)                        │ (\u001b[38;5;45mNone\u001b[0m, \u001b[38;5;34m512\u001b[0m)                 │         \u001b[38;5;34m524,800\u001b[0m │\n",
              "├──────────────────────────────────────┼─────────────────────────────┼─────────────────┤\n",
              "│ dropout (\u001b[38;5;33mDropout\u001b[0m)                    │ (\u001b[38;5;45mNone\u001b[0m, \u001b[38;5;34m512\u001b[0m)                 │               \u001b[38;5;34m0\u001b[0m │\n",
              "├──────────────────────────────────────┼─────────────────────────────┼─────────────────┤\n",
              "│ dense_1 (\u001b[38;5;33mDense\u001b[0m)                      │ (\u001b[38;5;45mNone\u001b[0m, \u001b[38;5;34m256\u001b[0m)                 │         \u001b[38;5;34m131,328\u001b[0m │\n",
              "├──────────────────────────────────────┼─────────────────────────────┼─────────────────┤\n",
              "│ dropout_1 (\u001b[38;5;33mDropout\u001b[0m)                  │ (\u001b[38;5;45mNone\u001b[0m, \u001b[38;5;34m256\u001b[0m)                 │               \u001b[38;5;34m0\u001b[0m │\n",
              "├──────────────────────────────────────┼─────────────────────────────┼─────────────────┤\n",
              "│ dense_2 (\u001b[38;5;33mDense\u001b[0m)                      │ (\u001b[38;5;45mNone\u001b[0m, \u001b[38;5;34m3\u001b[0m)                   │             \u001b[38;5;34m771\u001b[0m │\n",
              "└──────────────────────────────────────┴─────────────────────────────┴─────────────────┘\n"
            ],
            "text/html": [
              "<pre style=\"white-space:pre;overflow-x:auto;line-height:normal;font-family:Menlo,'DejaVu Sans Mono',consolas,'Courier New',monospace\">┏━━━━━━━━━━━━━━━━━━━━━━━━━━━━━━━━━━━━━━┳━━━━━━━━━━━━━━━━━━━━━━━━━━━━━┳━━━━━━━━━━━━━━━━━┓\n",
              "┃<span style=\"font-weight: bold\"> Layer (type)                         </span>┃<span style=\"font-weight: bold\"> Output Shape                </span>┃<span style=\"font-weight: bold\">         Param # </span>┃\n",
              "┡━━━━━━━━━━━━━━━━━━━━━━━━━━━━━━━━━━━━━━╇━━━━━━━━━━━━━━━━━━━━━━━━━━━━━╇━━━━━━━━━━━━━━━━━┩\n",
              "│ conv2d (<span style=\"color: #0087ff; text-decoration-color: #0087ff\">Conv2D</span>)                      │ (<span style=\"color: #00d7ff; text-decoration-color: #00d7ff\">None</span>, <span style=\"color: #00af00; text-decoration-color: #00af00\">8</span>, <span style=\"color: #00af00; text-decoration-color: #00af00\">8</span>, <span style=\"color: #00af00; text-decoration-color: #00af00\">64</span>)            │             <span style=\"color: #00af00; text-decoration-color: #00af00\">640</span> │\n",
              "├──────────────────────────────────────┼─────────────────────────────┼─────────────────┤\n",
              "│ batch_normalization                  │ (<span style=\"color: #00d7ff; text-decoration-color: #00d7ff\">None</span>, <span style=\"color: #00af00; text-decoration-color: #00af00\">8</span>, <span style=\"color: #00af00; text-decoration-color: #00af00\">8</span>, <span style=\"color: #00af00; text-decoration-color: #00af00\">64</span>)            │             <span style=\"color: #00af00; text-decoration-color: #00af00\">256</span> │\n",
              "│ (<span style=\"color: #0087ff; text-decoration-color: #0087ff\">BatchNormalization</span>)                 │                             │                 │\n",
              "├──────────────────────────────────────┼─────────────────────────────┼─────────────────┤\n",
              "│ max_pooling2d (<span style=\"color: #0087ff; text-decoration-color: #0087ff\">MaxPooling2D</span>)         │ (<span style=\"color: #00d7ff; text-decoration-color: #00d7ff\">None</span>, <span style=\"color: #00af00; text-decoration-color: #00af00\">4</span>, <span style=\"color: #00af00; text-decoration-color: #00af00\">4</span>, <span style=\"color: #00af00; text-decoration-color: #00af00\">64</span>)            │               <span style=\"color: #00af00; text-decoration-color: #00af00\">0</span> │\n",
              "├──────────────────────────────────────┼─────────────────────────────┼─────────────────┤\n",
              "│ conv2d_1 (<span style=\"color: #0087ff; text-decoration-color: #0087ff\">Conv2D</span>)                    │ (<span style=\"color: #00d7ff; text-decoration-color: #00d7ff\">None</span>, <span style=\"color: #00af00; text-decoration-color: #00af00\">4</span>, <span style=\"color: #00af00; text-decoration-color: #00af00\">4</span>, <span style=\"color: #00af00; text-decoration-color: #00af00\">128</span>)           │          <span style=\"color: #00af00; text-decoration-color: #00af00\">73,856</span> │\n",
              "├──────────────────────────────────────┼─────────────────────────────┼─────────────────┤\n",
              "│ batch_normalization_1                │ (<span style=\"color: #00d7ff; text-decoration-color: #00d7ff\">None</span>, <span style=\"color: #00af00; text-decoration-color: #00af00\">4</span>, <span style=\"color: #00af00; text-decoration-color: #00af00\">4</span>, <span style=\"color: #00af00; text-decoration-color: #00af00\">128</span>)           │             <span style=\"color: #00af00; text-decoration-color: #00af00\">512</span> │\n",
              "│ (<span style=\"color: #0087ff; text-decoration-color: #0087ff\">BatchNormalization</span>)                 │                             │                 │\n",
              "├──────────────────────────────────────┼─────────────────────────────┼─────────────────┤\n",
              "│ max_pooling2d_1 (<span style=\"color: #0087ff; text-decoration-color: #0087ff\">MaxPooling2D</span>)       │ (<span style=\"color: #00d7ff; text-decoration-color: #00d7ff\">None</span>, <span style=\"color: #00af00; text-decoration-color: #00af00\">2</span>, <span style=\"color: #00af00; text-decoration-color: #00af00\">2</span>, <span style=\"color: #00af00; text-decoration-color: #00af00\">128</span>)           │               <span style=\"color: #00af00; text-decoration-color: #00af00\">0</span> │\n",
              "├──────────────────────────────────────┼─────────────────────────────┼─────────────────┤\n",
              "│ conv2d_2 (<span style=\"color: #0087ff; text-decoration-color: #0087ff\">Conv2D</span>)                    │ (<span style=\"color: #00d7ff; text-decoration-color: #00d7ff\">None</span>, <span style=\"color: #00af00; text-decoration-color: #00af00\">2</span>, <span style=\"color: #00af00; text-decoration-color: #00af00\">2</span>, <span style=\"color: #00af00; text-decoration-color: #00af00\">256</span>)           │         <span style=\"color: #00af00; text-decoration-color: #00af00\">295,168</span> │\n",
              "├──────────────────────────────────────┼─────────────────────────────┼─────────────────┤\n",
              "│ batch_normalization_2                │ (<span style=\"color: #00d7ff; text-decoration-color: #00d7ff\">None</span>, <span style=\"color: #00af00; text-decoration-color: #00af00\">2</span>, <span style=\"color: #00af00; text-decoration-color: #00af00\">2</span>, <span style=\"color: #00af00; text-decoration-color: #00af00\">256</span>)           │           <span style=\"color: #00af00; text-decoration-color: #00af00\">1,024</span> │\n",
              "│ (<span style=\"color: #0087ff; text-decoration-color: #0087ff\">BatchNormalization</span>)                 │                             │                 │\n",
              "├──────────────────────────────────────┼─────────────────────────────┼─────────────────┤\n",
              "│ flatten (<span style=\"color: #0087ff; text-decoration-color: #0087ff\">Flatten</span>)                    │ (<span style=\"color: #00d7ff; text-decoration-color: #00d7ff\">None</span>, <span style=\"color: #00af00; text-decoration-color: #00af00\">1024</span>)                │               <span style=\"color: #00af00; text-decoration-color: #00af00\">0</span> │\n",
              "├──────────────────────────────────────┼─────────────────────────────┼─────────────────┤\n",
              "│ dense (<span style=\"color: #0087ff; text-decoration-color: #0087ff\">Dense</span>)                        │ (<span style=\"color: #00d7ff; text-decoration-color: #00d7ff\">None</span>, <span style=\"color: #00af00; text-decoration-color: #00af00\">512</span>)                 │         <span style=\"color: #00af00; text-decoration-color: #00af00\">524,800</span> │\n",
              "├──────────────────────────────────────┼─────────────────────────────┼─────────────────┤\n",
              "│ dropout (<span style=\"color: #0087ff; text-decoration-color: #0087ff\">Dropout</span>)                    │ (<span style=\"color: #00d7ff; text-decoration-color: #00d7ff\">None</span>, <span style=\"color: #00af00; text-decoration-color: #00af00\">512</span>)                 │               <span style=\"color: #00af00; text-decoration-color: #00af00\">0</span> │\n",
              "├──────────────────────────────────────┼─────────────────────────────┼─────────────────┤\n",
              "│ dense_1 (<span style=\"color: #0087ff; text-decoration-color: #0087ff\">Dense</span>)                      │ (<span style=\"color: #00d7ff; text-decoration-color: #00d7ff\">None</span>, <span style=\"color: #00af00; text-decoration-color: #00af00\">256</span>)                 │         <span style=\"color: #00af00; text-decoration-color: #00af00\">131,328</span> │\n",
              "├──────────────────────────────────────┼─────────────────────────────┼─────────────────┤\n",
              "│ dropout_1 (<span style=\"color: #0087ff; text-decoration-color: #0087ff\">Dropout</span>)                  │ (<span style=\"color: #00d7ff; text-decoration-color: #00d7ff\">None</span>, <span style=\"color: #00af00; text-decoration-color: #00af00\">256</span>)                 │               <span style=\"color: #00af00; text-decoration-color: #00af00\">0</span> │\n",
              "├──────────────────────────────────────┼─────────────────────────────┼─────────────────┤\n",
              "│ dense_2 (<span style=\"color: #0087ff; text-decoration-color: #0087ff\">Dense</span>)                      │ (<span style=\"color: #00d7ff; text-decoration-color: #00d7ff\">None</span>, <span style=\"color: #00af00; text-decoration-color: #00af00\">3</span>)                   │             <span style=\"color: #00af00; text-decoration-color: #00af00\">771</span> │\n",
              "└──────────────────────────────────────┴─────────────────────────────┴─────────────────┘\n",
              "</pre>\n"
            ]
          },
          "metadata": {}
        },
        {
          "output_type": "display_data",
          "data": {
            "text/plain": [
              "\u001b[1m Total params: \u001b[0m\u001b[38;5;34m1,028,355\u001b[0m (3.92 MB)\n"
            ],
            "text/html": [
              "<pre style=\"white-space:pre;overflow-x:auto;line-height:normal;font-family:Menlo,'DejaVu Sans Mono',consolas,'Courier New',monospace\"><span style=\"font-weight: bold\"> Total params: </span><span style=\"color: #00af00; text-decoration-color: #00af00\">1,028,355</span> (3.92 MB)\n",
              "</pre>\n"
            ]
          },
          "metadata": {}
        },
        {
          "output_type": "display_data",
          "data": {
            "text/plain": [
              "\u001b[1m Trainable params: \u001b[0m\u001b[38;5;34m1,027,459\u001b[0m (3.92 MB)\n"
            ],
            "text/html": [
              "<pre style=\"white-space:pre;overflow-x:auto;line-height:normal;font-family:Menlo,'DejaVu Sans Mono',consolas,'Courier New',monospace\"><span style=\"font-weight: bold\"> Trainable params: </span><span style=\"color: #00af00; text-decoration-color: #00af00\">1,027,459</span> (3.92 MB)\n",
              "</pre>\n"
            ]
          },
          "metadata": {}
        },
        {
          "output_type": "display_data",
          "data": {
            "text/plain": [
              "\u001b[1m Non-trainable params: \u001b[0m\u001b[38;5;34m896\u001b[0m (3.50 KB)\n"
            ],
            "text/html": [
              "<pre style=\"white-space:pre;overflow-x:auto;line-height:normal;font-family:Menlo,'DejaVu Sans Mono',consolas,'Courier New',monospace\"><span style=\"font-weight: bold\"> Non-trainable params: </span><span style=\"color: #00af00; text-decoration-color: #00af00\">896</span> (3.50 KB)\n",
              "</pre>\n"
            ]
          },
          "metadata": {}
        }
      ]
    },
    {
      "cell_type": "code",
      "source": [
        "#training through epochs with batch size 32\n",
        "model.fit(X, y, epochs=5, batch_size=32, validation_split=0.2)\n"
      ],
      "metadata": {
        "colab": {
          "base_uri": "https://localhost:8080/"
        },
        "id": "0BE1qhszAOTN",
        "outputId": "05c1b099-22f5-4c19-df0a-702659681a8a"
      },
      "execution_count": null,
      "outputs": [
        {
          "output_type": "stream",
          "name": "stdout",
          "text": [
            "Epoch 1/5\n",
            "\u001b[1m2264/2264\u001b[0m \u001b[32m━━━━━━━━━━━━━━━━━━━━\u001b[0m\u001b[37m\u001b[0m \u001b[1m79s\u001b[0m 34ms/step - accuracy: 0.4922 - loss: 0.8877 - val_accuracy: 0.5249 - val_loss: 0.7975\n",
            "Epoch 2/5\n",
            "\u001b[1m2264/2264\u001b[0m \u001b[32m━━━━━━━━━━━━━━━━━━━━\u001b[0m\u001b[37m\u001b[0m \u001b[1m78s\u001b[0m 32ms/step - accuracy: 0.5334 - loss: 0.8174 - val_accuracy: 0.4950 - val_loss: 0.8138\n",
            "Epoch 3/5\n",
            "\u001b[1m2264/2264\u001b[0m \u001b[32m━━━━━━━━━━━━━━━━━━━━\u001b[0m\u001b[37m\u001b[0m \u001b[1m75s\u001b[0m 33ms/step - accuracy: 0.5837 - loss: 0.7625 - val_accuracy: 0.4799 - val_loss: 0.8714\n",
            "Epoch 4/5\n",
            "\u001b[1m2264/2264\u001b[0m \u001b[32m━━━━━━━━━━━━━━━━━━━━\u001b[0m\u001b[37m\u001b[0m \u001b[1m82s\u001b[0m 33ms/step - accuracy: 0.6421 - loss: 0.6854 - val_accuracy: 0.5070 - val_loss: 0.9532\n",
            "Epoch 5/5\n",
            "\u001b[1m2264/2264\u001b[0m \u001b[32m━━━━━━━━━━━━━━━━━━━━\u001b[0m\u001b[37m\u001b[0m \u001b[1m82s\u001b[0m 33ms/step - accuracy: 0.6826 - loss: 0.6195 - val_accuracy: 0.4978 - val_loss: 0.9841\n"
          ]
        },
        {
          "output_type": "execute_result",
          "data": {
            "text/plain": [
              "<keras.src.callbacks.history.History at 0x7d6e75db09d0>"
            ]
          },
          "metadata": {},
          "execution_count": 12
        }
      ]
    },
    {
      "cell_type": "code",
      "source": [
        "#estimating model accuracy\n",
        "loss, accuracy = model.evaluate(X, y)\n",
        "print(f\"Model Accuracy: {accuracy:.2f}\")"
      ],
      "metadata": {
        "colab": {
          "base_uri": "https://localhost:8080/"
        },
        "id": "tQIocQqfB1xT",
        "outputId": "0ee14a71-44a7-4aee-aba2-5ca9f339b8b1"
      },
      "execution_count": null,
      "outputs": [
        {
          "output_type": "stream",
          "name": "stdout",
          "text": [
            "\u001b[1m2830/2830\u001b[0m \u001b[32m━━━━━━━━━━━━━━━━━━━━\u001b[0m\u001b[37m\u001b[0m \u001b[1m15s\u001b[0m 5ms/step - accuracy: 0.7073 - loss: 0.5657\n",
            "Model Accuracy: 0.67\n"
          ]
        }
      ]
    },
    {
      "cell_type": "code",
      "source": [
        "#plays a random game\n",
        "import random\n",
        "board = games[random.randint(0, len(games)-1)].board()\n",
        "sample_input = board_to_array(board).reshape(1, 8, 8, 1)\n",
        "prediction =  model.predict(sample_input)\n",
        "\n",
        "print(f\"Predicted Outcome: White Win: {prediction[0][0]:.2f}, Black Win: {prediction[0][1]:.2f}, Draw: {prediction[0][2]:.2f}\")\n",
        "print(\"Board Position:\")\n",
        "print(board)"
      ],
      "metadata": {
        "colab": {
          "base_uri": "https://localhost:8080/"
        },
        "id": "dpxLOaZcB8b5",
        "outputId": "0ebd3285-7de5-4ba4-bdb7-ce74d34f0ca8"
      },
      "execution_count": null,
      "outputs": [
        {
          "output_type": "stream",
          "name": "stdout",
          "text": [
            "\u001b[1m1/1\u001b[0m \u001b[32m━━━━━━━━━━━━━━━━━━━━\u001b[0m\u001b[37m\u001b[0m \u001b[1m0s\u001b[0m 129ms/step\n",
            "Predicted Outcome: White Win: 0.45, Black Win: 0.48, Draw: 0.07\n",
            "Board Position:\n",
            "r n b q k b n r\n",
            "p p p p p p p p\n",
            ". . . . . . . .\n",
            ". . . . . . . .\n",
            ". . . . . . . .\n",
            ". . . . . . . .\n",
            "P P P P P P P P\n",
            "R N B Q K B N R\n"
          ]
        }
      ]
    },
    {
      "cell_type": "code",
      "source": [
        "history = model.fit(X, y, epochs=5, batch_size=32, validation_split=0.2)\n"
      ],
      "metadata": {
        "colab": {
          "base_uri": "https://localhost:8080/"
        },
        "id": "i9pJPBfGFBlA",
        "outputId": "d8a23538-5db3-4f16-ed61-0b6f627f423b"
      },
      "execution_count": null,
      "outputs": [
        {
          "output_type": "stream",
          "name": "stdout",
          "text": [
            "Epoch 1/5\n",
            "\u001b[1m2264/2264\u001b[0m \u001b[32m━━━━━━━━━━━━━━━━━━━━\u001b[0m\u001b[37m\u001b[0m \u001b[1m75s\u001b[0m 33ms/step - accuracy: 0.7172 - loss: 0.5558 - val_accuracy: 0.5157 - val_loss: 1.2014\n",
            "Epoch 2/5\n",
            "\u001b[1m2264/2264\u001b[0m \u001b[32m━━━━━━━━━━━━━━━━━━━━\u001b[0m\u001b[37m\u001b[0m \u001b[1m83s\u001b[0m 34ms/step - accuracy: 0.7423 - loss: 0.5166 - val_accuracy: 0.5174 - val_loss: 1.1546\n",
            "Epoch 3/5\n",
            "\u001b[1m2264/2264\u001b[0m \u001b[32m━━━━━━━━━━━━━━━━━━━━\u001b[0m\u001b[37m\u001b[0m \u001b[1m83s\u001b[0m 34ms/step - accuracy: 0.7663 - loss: 0.4723 - val_accuracy: 0.5021 - val_loss: 1.4433\n",
            "Epoch 4/5\n",
            "\u001b[1m2264/2264\u001b[0m \u001b[32m━━━━━━━━━━━━━━━━━━━━\u001b[0m\u001b[37m\u001b[0m \u001b[1m82s\u001b[0m 34ms/step - accuracy: 0.7807 - loss: 0.4374 - val_accuracy: 0.5069 - val_loss: 1.2177\n",
            "Epoch 5/5\n",
            "\u001b[1m2264/2264\u001b[0m \u001b[32m━━━━━━━━━━━━━━━━━━━━\u001b[0m\u001b[37m\u001b[0m \u001b[1m85s\u001b[0m 35ms/step - accuracy: 0.7931 - loss: 0.4139 - val_accuracy: 0.5062 - val_loss: 1.4607\n"
          ]
        }
      ]
    },
    {
      "cell_type": "code",
      "source": [
        "import matplotlib.pyplot as plt\n",
        "\n",
        "# Plot Training & Validation Accuracy\n",
        "plt.figure(figsize=(10, 4))\n",
        "plt.subplot(1, 2, 1)\n",
        "plt.plot(history.history['accuracy'], label='Training Accuracy')\n",
        "plt.plot(history.history['val_accuracy'], label='Validation Accuracy')\n",
        "plt.xlabel('Epochs')\n",
        "plt.ylabel('Accuracy')\n",
        "plt.legend()\n",
        "plt.title('Model Accuracy')\n",
        "\n",
        "# Plot Training & Validation Loss\n",
        "plt.subplot(1, 2, 2)\n",
        "plt.plot(history.history['loss'], label='Training Loss')\n",
        "plt.plot(history.history['val_loss'], label='Validation Loss')\n",
        "plt.xlabel('Epochs')\n",
        "plt.ylabel('Loss')\n",
        "plt.legend()\n",
        "plt.title('Model Loss')\n",
        "\n",
        "plt.tight_layout()\n",
        "plt.show()"
      ],
      "metadata": {
        "colab": {
          "base_uri": "https://localhost:8080/",
          "height": 265
        },
        "id": "NfpoNMcpE7Nx",
        "outputId": "1a86eda9-11c2-43f7-c438-08939df39bc5"
      },
      "execution_count": null,
      "outputs": [
        {
          "output_type": "display_data",
          "data": {
            "text/plain": [
              "<Figure size 1000x400 with 2 Axes>"
            ],
            "image/png": "[encoded data removed]"
          },
          "metadata": {}
        }
      ]
    },
    {
      "cell_type": "code",
      "source": [
        "from sklearn.metrics import confusion_matrix, classification_report\n",
        "import seaborn as sns\n",
        "import numpy as np\n",
        "\n",
        "# Predict on the dataset\n",
        "y_pred = model.predict(X)\n",
        "y_pred_classes = np.argmax(y_pred, axis=1)\n",
        "y_true_classes = np.argmax(y, axis=1)\n",
        "# Compute confusion matrix\n",
        "cm = confusion_matrix(y_true_classes, y_pred_classes)\n",
        "class_labels = [\"White Win\", \"Black Win\", \"Draw\"]\n",
        "\n",
        "# Plot Confusion Matrix\n",
        "plt.figure(figsize=(6, 5))\n",
        "sns.heatmap(cm, annot=True, fmt=\"d\", cmap=\"Blues\", xticklabels=class_labels, yticklabels=class_labels)\n",
        "plt.xlabel(\"Predicted\")\n",
        "plt.ylabel(\"Actual\")\n",
        "plt.title(\"Confusion Matrix\")\n",
        "plt.show()\n",
        "\n",
        "# Print Classification Report\n",
        "print(\"Classification Report:\")\n",
        "print(classification_report(y_true_classes, y_pred_classes, target_names=class_labels))\n"
      ],
      "metadata": {
        "colab": {
          "base_uri": "https://localhost:8080/",
          "height": 695
        },
        "id": "iFVNT9j1GrrG",
        "outputId": "e923f6f3-07b5-4789-8062-ac82b63d8399"
      },
      "execution_count": null,
      "outputs": [
        {
          "output_type": "stream",
          "name": "stdout",
          "text": [
            "\u001b[1m2830/2830\u001b[0m \u001b[32m━━━━━━━━━━━━━━━━━━━━\u001b[0m\u001b[37m\u001b[0m \u001b[1m14s\u001b[0m 5ms/step\n"
          ]
        },
        {
          "output_type": "display_data",
          "data": {
            "text/plain": [
              "<Figure size 600x500 with 2 Axes>"
            ],
            "image/png": "[encoded data removed]"
          },
          "metadata": {}
        },
        {
          "output_type": "stream",
          "name": "stdout",
          "text": [
            "Classification Report:\n",
            "              precision    recall  f1-score   support\n",
            "\n",
            "   White Win       0.71      0.87      0.78     45906\n",
            "   Black Win       0.80      0.63      0.71     41083\n",
            "        Draw       0.85      0.62      0.72      3565\n",
            "\n",
            "    accuracy                           0.75     90554\n",
            "   macro avg       0.79      0.71      0.74     90554\n",
            "weighted avg       0.76      0.75      0.75     90554\n",
            "\n"
          ]
        }
      ]
    }
  ]
}