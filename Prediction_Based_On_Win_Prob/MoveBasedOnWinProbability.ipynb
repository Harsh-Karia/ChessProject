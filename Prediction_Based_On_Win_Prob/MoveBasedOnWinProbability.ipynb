{
  "nbformat": 4,
  "nbformat_minor": 0,
  "metadata": {
    "colab": {
      "provenance": []
    },
    "kernelspec": {
      "name": "python3",
      "display_name": "Python 3"
    },
    "language_info": {
      "name": "python"
    }
  },
  "cells": [
    {
      "cell_type": "markdown",
      "source": [
        "# Attempt: Predicting moves based on Win probability\n",
        "\n",
        "##### We attempted to create a model that would predict a move based on win probability of higher than 0.5. Essentially, we trained the model on moves that were generally associated with a final game outcome of winning.\n",
        "\n",
        "##### The input to the model is an 8x8 chess board, with white pieces encoded in 6 channels, and black pieces encoded in another 6 channels, because there are 6 different types of pieces: pawns, knights, bishops, rooks, queens, and kings. So we have a 12 x 8 x 8 tensor as our input to the model.\n",
        "\n",
        "##### The output of the model is a 64 x 64 tensor that is the move prediction. The rows represent the start square, of which there are 64 possibilities, and the columns represent the end square, of which there are 64 possibilities.\n",
        "\n",
        "##### Similar to the other win probability model, we used a Convolutional Neural Network architecture. By contrast, this model uses win probability to predict the best move.\n",
        "\n",
        "##### This ended up not working, with it making up illegal moves."
      ],
      "metadata": {
        "id": "Sx04lRP56489"
      }
    },
    {
      "cell_type": "code",
      "execution_count": null,
      "metadata": {
        "id": "SEu5tC5P-iGf"
      },
      "outputs": [],
      "source": [
        "!pip install chess pgnparser numpy tensorflow keras"
      ]
    },
    {
      "cell_type": "code",
      "source": [
        "#imports\n",
        "import chess\n",
        "import chess.pgn\n",
        "import numpy as np\n",
        "import random\n",
        "import tensorflow as tf\n",
        "from tensorflow import keras\n",
        "from tensorflow.keras.models import Sequential\n",
        "from tensorflow.keras.layers import Dense, Flatten"
      ],
      "metadata": {
        "id": "nKAYklse-rNx"
      },
      "execution_count": 26,
      "outputs": []
    },
    {
      "cell_type": "code",
      "source": [
        "!wget https://database.lichess.org/standard/lichess_db_standard_rated_2024-01.pgn.zst"
      ],
      "metadata": {
        "id": "2mDQUXI5-u5f"
      },
      "execution_count": null,
      "outputs": []
    },
    {
      "cell_type": "code",
      "source": [
        "!apt-get install zstd"
      ],
      "metadata": {
        "id": "0QEq4f25-9Nq"
      },
      "execution_count": null,
      "outputs": []
    },
    {
      "cell_type": "code",
      "source": [
        "!unzstd --stdout lichess_db_standard_rated_2024-01.pgn.zst | head -n 50000 > small_games.pgn"
      ],
      "metadata": {
        "id": "daGEVy62_Cjc"
      },
      "execution_count": 5,
      "outputs": []
    },
    {
      "cell_type": "code",
      "source": [
        "#parsing game from pgn file\n",
        "def parse_pgn(pgn_file, num_games=2000):\n",
        "    games = []\n",
        "    with open(pgn_file) as f:\n",
        "      #for each game in the pgn\n",
        "        for _ in range(num_games):\n",
        "            game = chess.pgn.read_game(f)\n",
        "            if game is None:\n",
        "                break\n",
        "            games.append(game)\n",
        "    return games\n",
        "\n",
        "#loading games\n",
        "games = parse_pgn(\"small_games.pgn\", num_games=2000)\n"
      ],
      "metadata": {
        "id": "pE3KTQyJQtga"
      },
      "execution_count": null,
      "outputs": []
    },
    {
      "cell_type": "code",
      "source": [
        "import numpy as np\n",
        "import chess\n",
        "\n",
        "def fen_to_tensor(fen):\n",
        "    board = chess.Board(fen)\n",
        "    # 12 channels to represent board: 6 for white, 6 for black\n",
        "    # for each channel, store the board state as an 8x8 grid (size of chess board)\n",
        "\n",
        "    tensor = np.zeros((12, 8, 8), dtype=np.float32)\n",
        "\n",
        "    #encoding white pieces as capital letters, black pieces as lower case\n",
        "    piece_map = {\n",
        "        \"P\": 0, \"N\": 1, \"B\": 2, \"R\": 3, \"Q\": 4, \"K\": 5,\n",
        "        \"p\": 6, \"n\": 7, \"b\": 8, \"r\": 9, \"q\": 10, \"k\": 11,\n",
        "    }\n",
        "\n",
        "\n",
        "    # given the board state in fen notation, iterate over every square on the board that has a piece on it, to get their positions\n",
        "    for square, piece in board.piece_map().items():\n",
        "\n",
        "        # square is an integer from 0 to 63 to represent all possible positions on board, so doing these operations gets row and column\n",
        "        row = 7 - (square // 8)\n",
        "\n",
        "        col = square % 8\n",
        "\n",
        "        #piece.symbol() is a character, like P, N, B, etc.\n",
        "        color = piece_map[piece.symbol()] # defaults to white (0-5)\n",
        "\n",
        "        # first 6 channels are white, last 6 are black (for 12 x 8 x 8 tensor)\n",
        "        if piece.color == chess.BLACK:\n",
        "            color += 6 # to get 6-11\n",
        "\n",
        "        #encode piece's position in tensor\n",
        "        tensor[color, row, col] = 1\n",
        "    return tensor\n",
        "\n",
        "\n",
        "# return the move as 2 numbers that represent the beginning and ending square\n",
        "def move_to_index(move):\n",
        "    return move.from_square, move.to_square"
      ],
      "metadata": {
        "id": "6aelRCAIZAW2"
      },
      "execution_count": 18,
      "outputs": []
    },
    {
      "cell_type": "code",
      "source": [
        "def extract_labels(games, max_moves=50):\n",
        "\n",
        "  #X is initial input board state\n",
        "  #Y is the move prediction, based on win probability of > 0.5\n",
        "    X, y = [], []\n",
        "    for game in games:\n",
        "        board = game.board()\n",
        "        result = game.headers[\"Result\"]\n",
        "\n",
        "        # assigning 1, 0, or 0.5 win probability based on white's perspective\n",
        "        if result == \"1-0\":\n",
        "           # White wins\n",
        "            win_prob = 1.0\n",
        "        elif result == \"0-1\":\n",
        "           # Black wins\n",
        "            win_prob = 0.0\n",
        "        else:\n",
        "          # Draw\n",
        "            win_prob = 0.5\n",
        "\n",
        "        move_count = 0\n",
        "\n",
        "        #iterating through each move in the game\n",
        "        for move in game.mainline_moves():\n",
        "\n",
        "\n",
        "            #adds board state to input tensor\n",
        "            X.append(fen_to_tensor(board))\n",
        "\n",
        "            #get the two integers associated with move\n",
        "            fromSquare, destSquare = move_to_index(move)\n",
        "            if win_prob > 0.5:\n",
        "\n",
        "\n",
        "              # since the output layer is 64x64 for the move prediction, we need to append to y based on that\n",
        "\n",
        "              # initializing with 0's\n",
        "              best_move = np.zeros((64, 64), dtype=np.float32)\n",
        "\n",
        "              #just setting the relevant from and to coordinate to 1. Everything else is 0\n",
        "              best_move[fromSquare, destSquare] = 1\n",
        "\n",
        "              y.append(best_move)\n",
        "\n",
        "\n",
        "              move_count += 1\n",
        "            #stops when max moves = 50 is reached\n",
        "            if move_count >= max_moves:\n",
        "                break\n",
        "\n",
        "            #goes to the next move in the game\n",
        "            board.push(move)\n",
        "\n",
        "    #return collection of board states and move predictions based on win probability\n",
        "    return np.array(X), np.array(y)\n",
        "\n",
        "X, y = extract_labels(games)\n"
      ],
      "metadata": {
        "id": "5OaiHgXye8IE"
      },
      "execution_count": null,
      "outputs": []
    },
    {
      "cell_type": "code",
      "source": [
        "model = Sequential([\n",
        "\n",
        "\n",
        "    #first convolutional layer: going from 12 x 8 x 8 to 64 filters (64 x 8 x 8)\n",
        "    Conv2D(64, kernel_size=(3, 3), activation='relu', padding='same', input_shape=(12, 8, 8)),\n",
        "\n",
        "    #second convolutional layer: going from input of 64 x 8 x 8 to 128 filters (128 x 8 x 8)\n",
        "    Conv2D(128, kernel_size=(3, 3), activation='relu', padding='same'),\n",
        "\n",
        "\n",
        "\n",
        "    #transform to 1D vector for fully connected layers\n",
        "    Flatten(),\n",
        "\n",
        "    #1st fully connected layer, using relu. Input is 128 x 8 x 8 vector (before flatten), and output is 1D vector that has 512 elements\n",
        "    Dense(512, activation='relu'),\n",
        "\n",
        "\n",
        "    #2nd fully connected layer, which takes input as 1D vector with 512 elements, and outputs 64x64 tensor, which is the move prediction (since it's not probability, don't have to use relu)\n",
        "    Dense(64*64, activation='linear')\n",
        "])\n",
        "\n",
        "#we're using cross entropy because this is a classification task, with multiple possible classes (64x64)\n",
        "# adam is used a lot as an optimizer\n",
        "model.compile(optimizer='adam', loss='categorical_crossentropy')\n",
        "model.summary()\n"
      ],
      "metadata": {
        "id": "xrrcSR5nhmHt"
      },
      "execution_count": null,
      "outputs": []
    },
    {
      "cell_type": "code",
      "source": [
        "#training the model on 10 epochs, batch size 32, train test split of 80:20\n",
        "#X: board state you're given\n",
        "#y: associated predicted move, given in form of 64x64 grid where rows represent start squares, columns represent destination squares\n",
        "model.fit(X, y, epochs=10, batch_size=32, validation_split=0.2)\n"
      ],
      "metadata": {
        "id": "RD85fpe0kwjt"
      },
      "execution_count": null,
      "outputs": []
    }
  ]
}